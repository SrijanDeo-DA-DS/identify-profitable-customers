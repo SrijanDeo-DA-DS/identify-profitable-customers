{
 "cells": [
  {
   "cell_type": "code",
   "execution_count": 5,
   "id": "3b91ae96-64df-4124-a315-3c2e04c37d82",
   "metadata": {
    "scrolled": true
   },
   "outputs": [
    {
     "name": "stderr",
     "output_type": "stream",
     "text": [
      "C:\\Users\\Srijan-DS\\anaconda3\\Lib\\site-packages\\sklearn\\preprocessing\\_encoders.py:975: FutureWarning: `sparse` was renamed to `sparse_output` in version 1.2 and will be removed in 1.4. `sparse_output` is ignored unless you leave `sparse` to its default value.\n",
      "  warnings.warn(\n"
     ]
    }
   ],
   "source": [
    "import pandas as pd\n",
    "import numpy as np\n",
    "import os,sys\n",
    "import pickle\n",
    "\n",
    "df = pd.read_csv('C:/Users/Srijan-DS/Documents/Projects/identify-important-customers/data/raw/train_df.csv')\n",
    "\n",
    "df.drop(['id'],axis=1,inplace=True)\n",
    "\n",
    "\n",
    "from sklearn.compose import ColumnTransformer\n",
    "from sklearn.impute import SimpleImputer\n",
    "from sklearn.preprocessing import OneHotEncoder, MinMaxScaler, RobustScaler\n",
    "\n",
    "from sklearn.pipeline import Pipeline,make_pipeline\n",
    "from sklearn.feature_selection import VarianceThreshold\n",
    "\n",
    "transformer_1 = ColumnTransformer(\n",
    "    transformers = [('tnf1', SimpleImputer(strategy='mean'), [0]),\n",
    "                    ('tnf2', SimpleImputer(strategy='median'), [6]),\n",
    "                    ('tnf3', SimpleImputer(strategy='most_frequent'), [7,10,12,15,16,22])\n",
    "                    ],\n",
    "     remainder = 'passthrough'\n",
    ").set_output(transform='pandas')\n",
    "\n",
    "transformer_2 = ColumnTransformer(\n",
    "    transformers = [('trf4', OneHotEncoder(sparse=False,drop='first'),[2])],\n",
    "    remainder = 'passthrough'\n",
    ").set_output(transform='pandas')\n",
    "\n",
    "transformer_3 = ColumnTransformer(\n",
    "    transformers = [('trf5', RobustScaler(),[1,8,9,11,18,19,23,24,25]),\n",
    "                   ('trf6', MinMaxScaler(),[0,2,3,4,5,6,7,10,12,13,14,15,16,17,20,21,22])\n",
    "                   ],\n",
    "    remainder = 'passthrough'\n",
    ").set_output(transform='pandas')\n",
    "\n",
    "transformer_4 = ColumnTransformer(\n",
    "    transformers = [('trf6', VarianceThreshold(threshold=0.05),[i for i in range(df.shape[1])])],\n",
    "    remainder = 'passthrough'\n",
    ").set_output(transform='pandas')\n",
    "\n",
    "pipe = Pipeline(\n",
    "    [\n",
    "        ('transformer_1', transformer_1),\n",
    "        ('transformer_2', transformer_2)\n",
    "        #('transformer_3', transformer_3)\n",
    "        #('transformer_4', transformer_4)\n",
    "    ]\n",
    ")\n",
    "\n",
    "df.drop(['important_customer'],axis=1,inplace=True)\n",
    "\n",
    "df = pipe.fit_transform(df)\n",
    "\n",
    "extracted_names = [col.split('__')[-1] for col in df.columns]\n",
    "\n",
    "df.columns = extracted_names\n",
    "\n",
    "pickle.dump(df, open('data.pkl','wb'))"
   ]
  },
  {
   "cell_type": "code",
   "execution_count": 9,
   "id": "10d67c73-178e-489c-b826-cc639b2356af",
   "metadata": {},
   "outputs": [],
   "source": [
    "from sklearn.ensemble import RandomForestClassifier"
   ]
  },
  {
   "cell_type": "code",
   "execution_count": 12,
   "id": "eeec1011-b9e2-40df-b6b1-78c8e461676e",
   "metadata": {
    "scrolled": true
   },
   "outputs": [
    {
     "name": "stderr",
     "output_type": "stream",
     "text": [
      "C:\\Users\\Srijan-DS\\anaconda3\\Lib\\site-packages\\sklearn\\preprocessing\\_encoders.py:975: FutureWarning: `sparse` was renamed to `sparse_output` in version 1.2 and will be removed in 1.4. `sparse_output` is ignored unless you leave `sparse` to its default value.\n",
      "  warnings.warn(\n"
     ]
    }
   ],
   "source": [
    "df = pd.read_csv('C:/Users/Srijan-DS/Documents/Projects/identify-important-customers/data/raw/train_df.csv')\n",
    "\n",
    "df.drop(['id'],axis=1,inplace=True)\n",
    "\n",
    "from sklearn.compose import ColumnTransformer\n",
    "from sklearn.impute import SimpleImputer\n",
    "from sklearn.preprocessing import OneHotEncoder, MinMaxScaler, RobustScaler\n",
    "\n",
    "from sklearn.pipeline import Pipeline,make_pipeline\n",
    "from sklearn.feature_selection import VarianceThreshold\n",
    "\n",
    "transformer_1 = ColumnTransformer(\n",
    "    transformers = [('tnf1', SimpleImputer(strategy='mean'), [0]),\n",
    "                    ('tnf2', SimpleImputer(strategy='median'), [6]),\n",
    "                    ('tnf3', SimpleImputer(strategy='most_frequent'), [7,10,12,15,16,22])\n",
    "                    ],\n",
    "     remainder = 'passthrough'\n",
    ").set_output(transform='pandas')\n",
    "\n",
    "transformer_2 = ColumnTransformer(\n",
    "    transformers = [('trf4', OneHotEncoder(sparse=False,drop='first'),[2])],\n",
    "    remainder = 'passthrough'\n",
    ").set_output(transform='pandas')\n",
    "\n",
    "transformer_3 = ColumnTransformer(\n",
    "    transformers = [('trf5', RobustScaler(),[1,8,9,11,18,19,23,24,25]),\n",
    "                   ('trf6', MinMaxScaler(),[0,2,3,4,5,6,7,10,12,13,14,15,16,17,20,21,22])\n",
    "                   ],\n",
    "    remainder = 'passthrough'\n",
    ").set_output(transform='pandas')\n",
    "\n",
    "transformer_4 = ColumnTransformer(\n",
    "    transformers = [('trf6', VarianceThreshold(threshold=0.05),[i for i in range(df.shape[1])])],\n",
    "    remainder = 'passthrough'\n",
    ").set_output(transform='pandas')\n",
    "\n",
    "pipe = Pipeline(\n",
    "    [\n",
    "        ('transformer_1', transformer_1),\n",
    "        ('transformer_2', transformer_2)\n",
    "        #('transformer_3', transformer_3)\n",
    "        #('transformer_4', transformer_4)\n",
    "    ]\n",
    ")\n",
    "\n",
    "df = pipe.fit_transform(df)\n",
    "\n",
    "extracted_names = [col.split('__')[-1] for col in df.columns]\n",
    "\n",
    "df.columns = extracted_names\n",
    "\n",
    "X = df.drop(['important_customer'],axis=1)\n",
    "y = df['important_customer']\n",
    "\n",
    "rf = RandomForestClassifier(class_weight={0:1,1:7}, max_depth = 25, min_samples_split = 20,\n",
    "                             min_samples_leaf = 20)\n",
    "rf.fit(X,y)\n",
    "\n",
    "\n",
    "## save\n",
    "\n",
    "pickle.dump(rf, open('model.pkl', 'wb'))"
   ]
  },
  {
   "cell_type": "code",
   "execution_count": null,
   "id": "37d48162-a042-4e14-a9ba-67ee871daa07",
   "metadata": {},
   "outputs": [],
   "source": []
  }
 ],
 "metadata": {
  "kernelspec": {
   "display_name": "Python 3 (ipykernel)",
   "language": "python",
   "name": "python3"
  },
  "language_info": {
   "codemirror_mode": {
    "name": "ipython",
    "version": 3
   },
   "file_extension": ".py",
   "mimetype": "text/x-python",
   "name": "python",
   "nbconvert_exporter": "python",
   "pygments_lexer": "ipython3",
   "version": "3.11.7"
  }
 },
 "nbformat": 4,
 "nbformat_minor": 5
}
